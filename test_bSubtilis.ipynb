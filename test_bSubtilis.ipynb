{
 "cells": [
  {
   "cell_type": "code",
   "execution_count": 1,
   "metadata": {},
   "outputs": [
    {
     "name": "stderr",
     "output_type": "stream",
     "text": [
      "/usr/lib/python3.5/importlib/_bootstrap.py:222: RuntimeWarning: numpy.dtype size changed, may indicate binary incompatibility. Expected 96, got 88\n",
      "  return f(*args, **kwds)\n",
      "/usr/lib/python3.5/importlib/_bootstrap.py:222: RuntimeWarning: numpy.dtype size changed, may indicate binary incompatibility. Expected 96, got 88\n",
      "  return f(*args, **kwds)\n"
     ]
    }
   ],
   "source": [
    "from dna2vec.multi_k_model import MultiKModel"
   ]
  },
  {
   "cell_type": "code",
   "execution_count": 2,
   "metadata": {},
   "outputs": [],
   "source": [
    "filepath = 'results/bSubtilis168/dna2vec-20190709-2117-k3to8-100d-10c-40Mbp-sliding-b2x.w2v'\n",
    "mk_model = MultiKModel(filepath)"
   ]
  },
  {
   "cell_type": "code",
   "execution_count": 3,
   "metadata": {
    "scrolled": true
   },
   "outputs": [
    {
     "data": {
      "text/plain": [
       "array([-6.54000e-04, -1.02488e-01,  2.44298e-01, -1.41558e-01,\n",
       "        4.81982e-01,  5.95096e-01,  5.90260e-02, -3.65375e-01,\n",
       "       -3.30979e-01,  1.47457e-01,  4.49796e-01, -2.92464e-01,\n",
       "        2.52020e-01, -9.13610e-02, -3.24316e-01, -2.38027e-01,\n",
       "       -1.52120e-01,  8.15440e-02, -2.95718e-01,  1.64486e-01,\n",
       "       -6.59124e-01, -1.22334e-01, -6.79700e-02, -1.47927e-01,\n",
       "       -1.41695e-01,  1.44230e-01,  1.58348e-01,  2.66870e-02,\n",
       "       -3.43150e-02,  1.14844e-01,  5.15890e-02,  9.91770e-02,\n",
       "        2.35940e-02, -2.32433e-01, -1.01242e-01, -2.37954e-01,\n",
       "        5.07660e-02,  5.62750e-02,  1.17275e-01,  7.56290e-02,\n",
       "        9.48080e-02, -9.73990e-02, -5.05000e-02, -2.44760e-01,\n",
       "        1.85051e-01, -1.93272e-01, -2.17080e-02, -2.12471e-01,\n",
       "       -1.71126e-01, -1.62698e-01,  7.32050e-02, -1.60440e-01,\n",
       "        2.47865e-01,  1.21819e-01,  2.40560e-02, -1.77790e-01,\n",
       "       -1.70600e-03,  4.18740e-02, -9.41500e-02, -1.88569e-01,\n",
       "        5.76027e-01,  7.31820e-02,  2.14271e-01,  1.38918e-01,\n",
       "        1.77252e-01, -1.39220e-02,  1.64396e-01,  1.03855e-01,\n",
       "        6.73290e-02,  1.05656e-01,  1.05918e-01, -2.27020e-02,\n",
       "        4.40250e-02, -1.22726e-01,  2.09970e-01,  2.16380e-02,\n",
       "       -4.06520e-01,  7.45240e-02,  3.56400e-01,  5.72999e-01,\n",
       "       -1.10727e-01, -7.04930e-02, -1.31539e-01,  7.87880e-02,\n",
       "       -6.26619e-01,  3.56330e-02, -1.94197e-01, -1.48772e-01,\n",
       "       -4.46088e-01, -3.88530e-01,  4.51509e-01, -1.55914e-01,\n",
       "       -2.37296e-01, -4.73065e-01, -2.57600e-02,  3.93280e-01,\n",
       "       -2.33700e-01, -4.34137e-01,  3.82460e-02, -2.18210e-02],\n",
       "      dtype=float32)"
      ]
     },
     "execution_count": 3,
     "metadata": {},
     "output_type": "execute_result"
    }
   ],
   "source": [
    "mk_model.vector('AAT')"
   ]
  },
  {
   "cell_type": "code",
   "execution_count": 4,
   "metadata": {},
   "outputs": [
    {
     "data": {
      "text/plain": [
       "0.2831508970938539"
      ]
     },
     "execution_count": 4,
     "metadata": {},
     "output_type": "execute_result"
    }
   ],
   "source": [
    "mk_model.cosine_distance('AAA', 'GCT')"
   ]
  },
  {
   "cell_type": "code",
   "execution_count": 5,
   "metadata": {},
   "outputs": [
    {
     "data": {
      "text/plain": [
       "0.8434512338459292"
      ]
     },
     "execution_count": 5,
     "metadata": {},
     "output_type": "execute_result"
    }
   ],
   "source": [
    "mk_model.cosine_distance('AAA', 'AAAA')"
   ]
  },
  {
   "cell_type": "code",
   "execution_count": 6,
   "metadata": {},
   "outputs": [
    {
     "data": {
      "text/plain": [
       "1.0"
      ]
     },
     "execution_count": 6,
     "metadata": {},
     "output_type": "execute_result"
    }
   ],
   "source": [
    "mk_model.cosine_distance('AAA', 'AAA')"
   ]
  },
  {
   "cell_type": "code",
   "execution_count": 7,
   "metadata": {},
   "outputs": [
    {
     "data": {
      "text/plain": [
       "0.3012073346779596"
      ]
     },
     "execution_count": 7,
     "metadata": {},
     "output_type": "execute_result"
    }
   ],
   "source": [
    "mk_model.cosine_distance('AAA', 'TTT')"
   ]
  },
  {
   "cell_type": "code",
   "execution_count": 14,
   "metadata": {},
   "outputs": [
    {
     "data": {
      "text/plain": [
       "numpy.ndarray"
      ]
     },
     "execution_count": 14,
     "metadata": {},
     "output_type": "execute_result"
    }
   ],
   "source": [
    "type(mk_model.vector('AAA'))"
   ]
  },
  {
   "cell_type": "code",
   "execution_count": 17,
   "metadata": {},
   "outputs": [
    {
     "data": {
      "text/plain": [
       "(100,)"
      ]
     },
     "execution_count": 17,
     "metadata": {},
     "output_type": "execute_result"
    }
   ],
   "source": [
    "mk_model.vector('AAA').shape"
   ]
  },
  {
   "cell_type": "code",
   "execution_count": null,
   "metadata": {},
   "outputs": [],
   "source": []
  }
 ],
 "metadata": {
  "kernelspec": {
   "display_name": "Python 3",
   "language": "python",
   "name": "python3"
  },
  "language_info": {
   "codemirror_mode": {
    "name": "ipython",
    "version": 3
   },
   "file_extension": ".py",
   "mimetype": "text/x-python",
   "name": "python",
   "nbconvert_exporter": "python",
   "pygments_lexer": "ipython3",
   "version": "3.5.2"
  }
 },
 "nbformat": 4,
 "nbformat_minor": 2
}
