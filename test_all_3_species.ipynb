{
 "cells": [
  {
   "cell_type": "code",
   "execution_count": 1,
   "metadata": {},
   "outputs": [
    {
     "name": "stderr",
     "output_type": "stream",
     "text": [
      "/usr/lib/python3.5/importlib/_bootstrap.py:222: RuntimeWarning: numpy.dtype size changed, may indicate binary incompatibility. Expected 96, got 88\n",
      "  return f(*args, **kwds)\n",
      "/usr/lib/python3.5/importlib/_bootstrap.py:222: RuntimeWarning: numpy.dtype size changed, may indicate binary incompatibility. Expected 96, got 88\n",
      "  return f(*args, **kwds)\n"
     ]
    }
   ],
   "source": [
    "from dna2vec.multi_k_model import MultiKModel"
   ]
  },
  {
   "cell_type": "code",
   "execution_count": 2,
   "metadata": {},
   "outputs": [],
   "source": [
    "filepath = 'results/all_3_species/dna2vec-20190710-1635-k3to8-100d-10c-210Mbp-sliding-L8L.w2v'\n",
    "mk_model = MultiKModel(filepath)"
   ]
  },
  {
   "cell_type": "code",
   "execution_count": 3,
   "metadata": {
    "scrolled": true
   },
   "outputs": [
    {
     "data": {
      "text/plain": [
       "array([-2.21869e-01,  5.69630e-02, -1.34507e-01, -1.89524e-01,\n",
       "       -3.63535e-01, -3.03389e-01,  4.43812e-01, -2.99599e-01,\n",
       "        7.07550e-02,  1.25874e-01,  9.23460e-02,  1.25656e-01,\n",
       "       -2.57439e-01, -2.02513e-01,  6.58040e-02,  3.56790e-02,\n",
       "        1.27840e-01,  1.91982e-01, -1.80772e-01,  1.30284e-01,\n",
       "        1.93989e-01, -1.21926e-01,  2.12653e-01,  2.99256e-01,\n",
       "       -2.12810e-02,  3.19570e-02,  2.35125e-01,  1.70735e-01,\n",
       "        2.29530e-01, -1.61279e-01, -2.61188e-01, -5.83440e-02,\n",
       "        2.27624e-01,  2.54880e-02,  3.07661e-01,  2.25753e-01,\n",
       "       -4.90730e-02,  1.56226e-01, -5.59901e-01,  1.26152e-01,\n",
       "       -2.44971e-01, -3.07833e-01, -3.93450e-01,  3.08386e-01,\n",
       "       -1.08090e-01, -6.93600e-03,  1.31295e-01,  3.05699e-01,\n",
       "       -2.26681e-01,  3.14362e-01,  5.49150e-02, -7.92620e-02,\n",
       "        1.95400e-01,  2.50245e-01,  6.88750e-02, -1.97154e-01,\n",
       "       -9.90500e-02,  5.35540e-02, -4.57740e-02,  4.12975e-01,\n",
       "        9.53770e-02, -2.93091e-01,  1.55590e-02, -5.52424e-01,\n",
       "        1.97027e-01,  2.62889e-01,  1.26691e-01, -1.76425e-01,\n",
       "        2.08279e-01, -2.40090e-02, -1.05458e-01,  4.02949e-01,\n",
       "        5.05400e-01, -4.75860e-02,  7.61680e-02, -1.48591e-01,\n",
       "        7.89070e-02,  1.65960e-02,  1.00700e-03,  4.39522e-01,\n",
       "       -1.23000e-04, -1.46683e-01,  6.41090e-02,  3.49980e-02,\n",
       "       -1.54683e-01,  1.39294e-01,  1.23707e-01, -4.17033e-01,\n",
       "        1.88041e-01,  6.17510e-02, -1.60345e-01,  1.21231e-01,\n",
       "        1.02152e-01,  1.39588e-01,  1.51364e-01,  3.34488e-01,\n",
       "       -9.07810e-02, -7.70000e-05, -1.35923e-01,  9.86300e-02],\n",
       "      dtype=float32)"
      ]
     },
     "execution_count": 3,
     "metadata": {},
     "output_type": "execute_result"
    }
   ],
   "source": [
    "mk_model.vector('AAT')"
   ]
  },
  {
   "cell_type": "code",
   "execution_count": 4,
   "metadata": {},
   "outputs": [
    {
     "data": {
      "text/plain": [
       "0.22186094076493548"
      ]
     },
     "execution_count": 4,
     "metadata": {},
     "output_type": "execute_result"
    }
   ],
   "source": [
    "mk_model.cosine_distance('AAA', 'GCT')"
   ]
  },
  {
   "cell_type": "code",
   "execution_count": 5,
   "metadata": {},
   "outputs": [
    {
     "data": {
      "text/plain": [
       "0.8825300369271584"
      ]
     },
     "execution_count": 5,
     "metadata": {},
     "output_type": "execute_result"
    }
   ],
   "source": [
    "mk_model.cosine_distance('AAA', 'AAAA')"
   ]
  },
  {
   "cell_type": "code",
   "execution_count": 6,
   "metadata": {},
   "outputs": [
    {
     "data": {
      "text/plain": [
       "1.0"
      ]
     },
     "execution_count": 6,
     "metadata": {},
     "output_type": "execute_result"
    }
   ],
   "source": [
    "mk_model.cosine_distance('AAA', 'AAA')"
   ]
  },
  {
   "cell_type": "code",
   "execution_count": 7,
   "metadata": {},
   "outputs": [
    {
     "data": {
      "text/plain": [
       "0.3624510463444323"
      ]
     },
     "execution_count": 7,
     "metadata": {},
     "output_type": "execute_result"
    }
   ],
   "source": [
    "mk_model.cosine_distance('AAA', 'TTT')"
   ]
  },
  {
   "cell_type": "code",
   "execution_count": 8,
   "metadata": {},
   "outputs": [
    {
     "data": {
      "text/plain": [
       "numpy.ndarray"
      ]
     },
     "execution_count": 8,
     "metadata": {},
     "output_type": "execute_result"
    }
   ],
   "source": [
    "type(mk_model.vector('AAA'))"
   ]
  },
  {
   "cell_type": "code",
   "execution_count": 9,
   "metadata": {},
   "outputs": [
    {
     "data": {
      "text/plain": [
       "(100,)"
      ]
     },
     "execution_count": 9,
     "metadata": {},
     "output_type": "execute_result"
    }
   ],
   "source": [
    "mk_model.vector('AAA').shape"
   ]
  },
  {
   "cell_type": "code",
   "execution_count": null,
   "metadata": {},
   "outputs": [],
   "source": []
  }
 ],
 "metadata": {
  "kernelspec": {
   "display_name": "Python 3",
   "language": "python",
   "name": "python3"
  },
  "language_info": {
   "codemirror_mode": {
    "name": "ipython",
    "version": 3
   },
   "file_extension": ".py",
   "mimetype": "text/x-python",
   "name": "python",
   "nbconvert_exporter": "python",
   "pygments_lexer": "ipython3",
   "version": "3.5.2"
  }
 },
 "nbformat": 4,
 "nbformat_minor": 2
}
