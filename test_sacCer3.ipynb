{
 "cells": [
  {
   "cell_type": "code",
   "execution_count": 1,
   "metadata": {},
   "outputs": [
    {
     "name": "stderr",
     "output_type": "stream",
     "text": [
      "/usr/lib/python3.5/importlib/_bootstrap.py:222: RuntimeWarning: numpy.dtype size changed, may indicate binary incompatibility. Expected 96, got 88\n",
      "  return f(*args, **kwds)\n",
      "/usr/lib/python3.5/importlib/_bootstrap.py:222: RuntimeWarning: numpy.dtype size changed, may indicate binary incompatibility. Expected 96, got 88\n",
      "  return f(*args, **kwds)\n"
     ]
    }
   ],
   "source": [
    "from dna2vec.multi_k_model import MultiKModel"
   ]
  },
  {
   "cell_type": "code",
   "execution_count": 2,
   "metadata": {},
   "outputs": [],
   "source": [
    "filepath = 'results/sacCer3/dna2vec-20190620-1803-k3to8-100d-10c-120Mbp-sliding-ESW.w2v'\n",
    "mk_model = MultiKModel(filepath)"
   ]
  },
  {
   "cell_type": "code",
   "execution_count": 4,
   "metadata": {
    "scrolled": true
   },
   "outputs": [
    {
     "data": {
      "text/plain": [
       "array([ 1.88665e-01, -3.27181e-01,  3.34665e-01,  5.10380e-02,\n",
       "        5.47803e-01, -1.19184e-01,  1.40482e-01,  1.39638e-01,\n",
       "        2.70949e-01,  4.38192e-01,  6.90800e-02, -1.84873e-01,\n",
       "       -7.09100e-02, -5.41160e-02, -7.56800e-02,  2.41571e-01,\n",
       "       -7.21420e-02,  2.30020e-02, -2.98680e-01, -4.51808e-01,\n",
       "        2.64510e-02,  4.39384e-01,  4.96500e-03,  1.77978e-01,\n",
       "        4.12200e-03, -2.48235e-01, -2.66455e-01, -1.09113e-01,\n",
       "        6.31930e-02,  4.53798e-01, -4.38174e-01,  1.08697e-01,\n",
       "       -3.85810e-02,  8.09570e-02, -1.38847e-01,  1.73524e-01,\n",
       "       -2.15353e-01, -1.60108e-01,  4.45801e-01, -4.11029e-01,\n",
       "        9.40740e-02,  1.09730e-02,  1.99322e-01, -2.48955e-01,\n",
       "        1.63654e-01,  6.48400e-02, -1.09510e-02,  1.13580e-02,\n",
       "        8.02490e-02,  3.15981e-01,  7.28800e-03, -2.18873e-01,\n",
       "       -4.01210e-02, -1.29896e-01, -1.13000e-02,  1.19996e-01,\n",
       "        1.61055e-01, -7.80580e-02,  3.23907e-01,  6.95390e-02,\n",
       "       -2.44600e-03, -6.34510e-02,  6.20060e-02, -2.39127e-01,\n",
       "       -1.10220e-02,  6.06930e-02,  5.71430e-02, -2.58836e-01,\n",
       "        8.31230e-02, -5.62424e-01,  3.56490e-01,  3.05568e-01,\n",
       "        2.68189e-01, -1.41990e-02, -2.62198e-01, -1.64390e-01,\n",
       "       -1.17747e-01, -1.59927e-01,  7.59290e-02, -3.92252e-01,\n",
       "       -2.53332e-01,  3.18853e-01, -5.66580e-02, -1.61122e-01,\n",
       "       -2.74040e-02, -1.18754e-01, -1.75831e-01,  3.69094e-01,\n",
       "       -2.13418e-01,  9.58890e-02,  5.16100e-02, -1.14963e-01,\n",
       "        4.35000e-04, -2.65665e-01, -1.73539e-01, -7.75260e-02,\n",
       "        1.51050e-01,  1.41552e-01,  6.82580e-02, -7.56840e-02],\n",
       "      dtype=float32)"
      ]
     },
     "execution_count": 4,
     "metadata": {},
     "output_type": "execute_result"
    }
   ],
   "source": [
    "mk_model.vector('AAT')"
   ]
  },
  {
   "cell_type": "code",
   "execution_count": 5,
   "metadata": {},
   "outputs": [
    {
     "data": {
      "text/plain": [
       "0.21050724364195128"
      ]
     },
     "execution_count": 5,
     "metadata": {},
     "output_type": "execute_result"
    }
   ],
   "source": [
    "mk_model.cosine_distance('AAA', 'GCT')"
   ]
  },
  {
   "cell_type": "code",
   "execution_count": 6,
   "metadata": {},
   "outputs": [
    {
     "data": {
      "text/plain": [
       "0.8670839526463744"
      ]
     },
     "execution_count": 6,
     "metadata": {},
     "output_type": "execute_result"
    }
   ],
   "source": [
    "mk_model.cosine_distance('AAA', 'AAAA')"
   ]
  },
  {
   "cell_type": "code",
   "execution_count": 7,
   "metadata": {},
   "outputs": [
    {
     "data": {
      "text/plain": [
       "1.0000000000000002"
      ]
     },
     "execution_count": 7,
     "metadata": {},
     "output_type": "execute_result"
    }
   ],
   "source": [
    "mk_model.cosine_distance('AAA', 'AAA')"
   ]
  },
  {
   "cell_type": "code",
   "execution_count": 13,
   "metadata": {},
   "outputs": [
    {
     "data": {
      "text/plain": [
       "0.30289764554486009"
      ]
     },
     "execution_count": 13,
     "metadata": {},
     "output_type": "execute_result"
    }
   ],
   "source": [
    "mk_model.cosine_distance('AAA', 'TTT')"
   ]
  },
  {
   "cell_type": "code",
   "execution_count": 14,
   "metadata": {},
   "outputs": [
    {
     "data": {
      "text/plain": [
       "numpy.ndarray"
      ]
     },
     "execution_count": 14,
     "metadata": {},
     "output_type": "execute_result"
    }
   ],
   "source": [
    "type(mk_model.vector('AAA'))"
   ]
  },
  {
   "cell_type": "code",
   "execution_count": 17,
   "metadata": {},
   "outputs": [
    {
     "data": {
      "text/plain": [
       "(100,)"
      ]
     },
     "execution_count": 17,
     "metadata": {},
     "output_type": "execute_result"
    }
   ],
   "source": [
    "mk_model.vector('AAA').shape"
   ]
  },
  {
   "cell_type": "code",
   "execution_count": null,
   "metadata": {},
   "outputs": [],
   "source": []
  }
 ],
 "metadata": {
  "kernelspec": {
   "display_name": "Python 3",
   "language": "python",
   "name": "python3"
  },
  "language_info": {
   "codemirror_mode": {
    "name": "ipython",
    "version": 3
   },
   "file_extension": ".py",
   "mimetype": "text/x-python",
   "name": "python",
   "nbconvert_exporter": "python",
   "pygments_lexer": "ipython3",
   "version": "3.5.2"
  }
 },
 "nbformat": 4,
 "nbformat_minor": 2
}
