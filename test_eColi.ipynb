{
 "cells": [
  {
   "cell_type": "code",
   "execution_count": 7,
   "metadata": {},
   "outputs": [],
   "source": [
    "from dna2vec.multi_k_model import MultiKModel"
   ]
  },
  {
   "cell_type": "code",
   "execution_count": 8,
   "metadata": {},
   "outputs": [],
   "source": [
    "filepath = 'results/eColiK12MG1655/dna2vec-20190709-2016-k3to8-100d-10c-40Mbp-sliding-CIt.w2v'\n",
    "mk_model = MultiKModel(filepath)"
   ]
  },
  {
   "cell_type": "code",
   "execution_count": 9,
   "metadata": {
    "scrolled": true
   },
   "outputs": [
    {
     "data": {
      "text/plain": [
       "array([-0.172412,  0.085001, -0.239   ,  0.195857,  0.282929,  0.093702,\n",
       "       -0.041511, -0.007247, -0.058177, -0.238189,  0.144643, -0.149254,\n",
       "       -0.139109, -0.187686,  0.135908,  0.147896, -0.001169,  0.013853,\n",
       "        0.160812,  0.008086,  0.230367,  0.140604,  0.236687,  0.061393,\n",
       "        0.029041,  0.051055, -0.059479, -0.005677,  0.326439, -0.152316,\n",
       "       -0.115332, -0.049423, -0.145263, -0.197651,  0.228746,  0.199523,\n",
       "       -0.624968,  0.477489, -0.254691,  0.204777,  0.280191, -0.078715,\n",
       "        0.428883, -0.258122,  0.268075,  0.187994,  0.145323,  0.454711,\n",
       "       -0.391877,  0.073053, -0.269739, -0.405639,  0.001107, -0.114825,\n",
       "       -0.240759, -0.05333 , -0.018537,  0.320637,  0.160739,  0.125001,\n",
       "        0.139039,  0.115012, -0.22409 ,  0.38133 ,  0.443343,  0.010416,\n",
       "       -0.108282,  0.036267, -0.01197 ,  0.144355,  0.315024,  0.529754,\n",
       "       -0.112901,  0.55658 ,  0.023644, -0.621052, -0.288145, -0.115362,\n",
       "       -0.676909,  0.380011,  0.274081,  0.141604,  0.000982,  0.41196 ,\n",
       "        0.054254, -0.284224, -0.00607 ,  0.082097, -0.125719, -0.2775  ,\n",
       "        0.081413,  0.077012,  0.017701,  0.194881, -0.142338,  0.217798,\n",
       "        0.23146 , -0.387555, -0.229896, -0.024736], dtype=float32)"
      ]
     },
     "execution_count": 9,
     "metadata": {},
     "output_type": "execute_result"
    }
   ],
   "source": [
    "mk_model.vector('AAT')"
   ]
  },
  {
   "cell_type": "code",
   "execution_count": 4,
   "metadata": {},
   "outputs": [
    {
     "data": {
      "text/plain": [
       "0.21899279019830165"
      ]
     },
     "execution_count": 4,
     "metadata": {},
     "output_type": "execute_result"
    }
   ],
   "source": [
    "mk_model.cosine_distance('AAA', 'GCT')"
   ]
  },
  {
   "cell_type": "code",
   "execution_count": 5,
   "metadata": {},
   "outputs": [
    {
     "data": {
      "text/plain": [
       "0.8498539278635826"
      ]
     },
     "execution_count": 5,
     "metadata": {},
     "output_type": "execute_result"
    }
   ],
   "source": [
    "mk_model.cosine_distance('AAA', 'AAAA')"
   ]
  },
  {
   "cell_type": "code",
   "execution_count": 6,
   "metadata": {},
   "outputs": [
    {
     "data": {
      "text/plain": [
       "1.0"
      ]
     },
     "execution_count": 6,
     "metadata": {},
     "output_type": "execute_result"
    }
   ],
   "source": [
    "mk_model.cosine_distance('AAA', 'AAA')"
   ]
  },
  {
   "cell_type": "code",
   "execution_count": 13,
   "metadata": {},
   "outputs": [
    {
     "data": {
      "text/plain": [
       "0.30289764554486009"
      ]
     },
     "execution_count": 13,
     "metadata": {},
     "output_type": "execute_result"
    }
   ],
   "source": [
    "mk_model.cosine_distance('AAA', 'TTT')"
   ]
  },
  {
   "cell_type": "code",
   "execution_count": 14,
   "metadata": {},
   "outputs": [
    {
     "data": {
      "text/plain": [
       "numpy.ndarray"
      ]
     },
     "execution_count": 14,
     "metadata": {},
     "output_type": "execute_result"
    }
   ],
   "source": [
    "type(mk_model.vector('AAA'))"
   ]
  },
  {
   "cell_type": "code",
   "execution_count": 17,
   "metadata": {},
   "outputs": [
    {
     "data": {
      "text/plain": [
       "(100,)"
      ]
     },
     "execution_count": 17,
     "metadata": {},
     "output_type": "execute_result"
    }
   ],
   "source": [
    "mk_model.vector('AAA').shape"
   ]
  },
  {
   "cell_type": "code",
   "execution_count": null,
   "metadata": {},
   "outputs": [],
   "source": []
  }
 ],
 "metadata": {
  "kernelspec": {
   "display_name": "Python 3",
   "language": "python",
   "name": "python3"
  },
  "language_info": {
   "codemirror_mode": {
    "name": "ipython",
    "version": 3
   },
   "file_extension": ".py",
   "mimetype": "text/x-python",
   "name": "python",
   "nbconvert_exporter": "python",
   "pygments_lexer": "ipython3",
   "version": "3.5.2"
  }
 },
 "nbformat": 4,
 "nbformat_minor": 2
}
